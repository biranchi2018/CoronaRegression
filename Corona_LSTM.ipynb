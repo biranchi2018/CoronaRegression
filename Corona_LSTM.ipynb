{
  "nbformat": 4,
  "nbformat_minor": 0,
  "metadata": {
    "colab": {
      "name": "Corona LSTM.ipynb",
      "provenance": [],
      "collapsed_sections": [],
      "authorship_tag": "ABX9TyNCowBwIpII8/snA18NW/87",
      "include_colab_link": true
    },
    "kernelspec": {
      "name": "python3",
      "display_name": "Python 3"
    },
    "accelerator": "GPU"
  },
  "cells": [
    {
      "cell_type": "markdown",
      "metadata": {
        "id": "view-in-github",
        "colab_type": "text"
      },
      "source": [
        "<a href=\"https://colab.research.google.com/github/biranchi2018/CoronaRegression/blob/master/Corona_LSTM.ipynb\" target=\"_parent\"><img src=\"https://colab.research.google.com/assets/colab-badge.svg\" alt=\"Open In Colab\"/></a>"
      ]
    },
    {
      "cell_type": "code",
      "metadata": {
        "id": "2XLcbOSxAhWT",
        "colab_type": "code",
        "colab": {}
      },
      "source": [
        "# https://machinelearningmastery.com/how-to-develop-lstm-models-for-time-series-forecasting/\n",
        "\n",
        "import tensorflow as tf\n",
        "import numpy as np"
      ],
      "execution_count": 0,
      "outputs": []
    },
    {
      "cell_type": "code",
      "metadata": {
        "id": "WC5biRf9AnkJ",
        "colab_type": "code",
        "outputId": "da7fa7c7-4fa4-416b-f63d-7d3ab1c93a75",
        "colab": {
          "base_uri": "https://localhost:8080/",
          "height": 52
        }
      },
      "source": [
        "\n",
        "data = np.array([38.03, 42.10, 44.04, 45.01, 47.25, 49.69, 52.19, 53.38, 56.50, 58.47, 59.32, 60.74, 61.09, 62.40, 63.22, 64.36, 65.52, 66.82])\n",
        "#data = np.array([38.03, 42.10, 44.04, 45.01, 47.25, 49.69, 52.19, 53.38, 56.50, 58.47, 59.32, 60.74, 61.09])\n",
        "\n",
        "data"
      ],
      "execution_count": 2,
      "outputs": [
        {
          "output_type": "execute_result",
          "data": {
            "text/plain": [
              "array([38.03, 42.1 , 44.04, 45.01, 47.25, 49.69, 52.19, 53.38, 56.5 ,\n",
              "       58.47, 59.32, 60.74, 61.09, 62.4 , 63.22, 64.36, 65.52, 66.82])"
            ]
          },
          "metadata": {
            "tags": []
          },
          "execution_count": 2
        }
      ]
    },
    {
      "cell_type": "code",
      "metadata": {
        "id": "ygOabGWUrkx1",
        "colab_type": "code",
        "outputId": "914aeceb-5e1e-4908-f7da-fb1c024e2e38",
        "colab": {
          "base_uri": "https://localhost:8080/",
          "height": 34
        }
      },
      "source": [
        "len(data)"
      ],
      "execution_count": 3,
      "outputs": [
        {
          "output_type": "execute_result",
          "data": {
            "text/plain": [
              "18"
            ]
          },
          "metadata": {
            "tags": []
          },
          "execution_count": 3
        }
      ]
    },
    {
      "cell_type": "code",
      "metadata": {
        "id": "UPXH7Udv_J3b",
        "colab_type": "code",
        "colab": {}
      },
      "source": [
        ""
      ],
      "execution_count": 0,
      "outputs": []
    },
    {
      "cell_type": "markdown",
      "metadata": {
        "id": "kDS7WAEf_N_b",
        "colab_type": "text"
      },
      "source": [
        "## Prepare data for LSTM "
      ]
    },
    {
      "cell_type": "code",
      "metadata": {
        "id": "IuR-LTig_J6x",
        "colab_type": "code",
        "colab": {}
      },
      "source": [
        "# split a univariate sequence into samples\n",
        "def split_sequence(sequence, n_steps):\n",
        "\tX, y = list(), list()\n",
        "\tfor i in range(len(sequence)):\n",
        "\t\t# find the end of this pattern\n",
        "\t\tend_ix = i + n_steps\n",
        "\t\t# check if we are beyond the sequence\n",
        "\t\tif end_ix > len(sequence)-1:\n",
        "\t\t\tbreak\n",
        "\t\t# gather input and output parts of the pattern\n",
        "\t\tseq_x, seq_y = sequence[i:end_ix], sequence[end_ix]\n",
        "\t\tX.append(seq_x)\n",
        "\t\ty.append(seq_y)\n",
        "\treturn np.array(X), np.array(y)"
      ],
      "execution_count": 0,
      "outputs": []
    },
    {
      "cell_type": "code",
      "metadata": {
        "id": "SMuUJKsz_QuE",
        "colab_type": "code",
        "colab": {}
      },
      "source": [
        "n_steps = 3\n",
        "n_features = 1\n",
        "\n",
        "xs, ys = split_sequence(data, n_steps)"
      ],
      "execution_count": 0,
      "outputs": []
    },
    {
      "cell_type": "code",
      "metadata": {
        "id": "_ETQg90k_Qw7",
        "colab_type": "code",
        "outputId": "ad547828-24c8-4779-e4fe-8216d7d385ab",
        "colab": {
          "base_uri": "https://localhost:8080/",
          "height": 318
        }
      },
      "source": [
        "xs, ys"
      ],
      "execution_count": 6,
      "outputs": [
        {
          "output_type": "execute_result",
          "data": {
            "text/plain": [
              "(array([[38.03, 42.1 , 44.04],\n",
              "        [42.1 , 44.04, 45.01],\n",
              "        [44.04, 45.01, 47.25],\n",
              "        [45.01, 47.25, 49.69],\n",
              "        [47.25, 49.69, 52.19],\n",
              "        [49.69, 52.19, 53.38],\n",
              "        [52.19, 53.38, 56.5 ],\n",
              "        [53.38, 56.5 , 58.47],\n",
              "        [56.5 , 58.47, 59.32],\n",
              "        [58.47, 59.32, 60.74],\n",
              "        [59.32, 60.74, 61.09],\n",
              "        [60.74, 61.09, 62.4 ],\n",
              "        [61.09, 62.4 , 63.22],\n",
              "        [62.4 , 63.22, 64.36],\n",
              "        [63.22, 64.36, 65.52]]),\n",
              " array([45.01, 47.25, 49.69, 52.19, 53.38, 56.5 , 58.47, 59.32, 60.74,\n",
              "        61.09, 62.4 , 63.22, 64.36, 65.52, 66.82]))"
            ]
          },
          "metadata": {
            "tags": []
          },
          "execution_count": 6
        }
      ]
    },
    {
      "cell_type": "code",
      "metadata": {
        "id": "Q3S7wDGh_Q0T",
        "colab_type": "code",
        "colab": {}
      },
      "source": [
        ""
      ],
      "execution_count": 0,
      "outputs": []
    },
    {
      "cell_type": "code",
      "metadata": {
        "id": "oOXNNUZI_Q4B",
        "colab_type": "code",
        "colab": {}
      },
      "source": [
        ""
      ],
      "execution_count": 0,
      "outputs": []
    },
    {
      "cell_type": "code",
      "metadata": {
        "id": "mFFxCjmnA-JW",
        "colab_type": "code",
        "colab": {}
      },
      "source": [
        "# xs = []\n",
        "# xs_range = range(0,len(ys))\n",
        "# print(xs_range)\n",
        "# for i in xs_range:\n",
        "#   xs.append(i+1)\n",
        "\n",
        "# xs = np.array(xs, dtype=np.float32)\n",
        "# xs"
      ],
      "execution_count": 0,
      "outputs": []
    },
    {
      "cell_type": "code",
      "metadata": {
        "id": "N5Pyy-FOAqbT",
        "colab_type": "code",
        "colab": {}
      },
      "source": [
        "# model = tf.keras.models.Sequential()\n",
        "# model.add(tf.keras.layers.Dense(100, input_dim=1, activation='relu'))\n",
        "# model.add(tf.keras.layers.Dropout(0.2))\n",
        "# model.add(tf.keras.layers.Dense(100, activation='relu'))\n",
        "# model.add(tf.keras.layers.Dense(10, activation='relu'))\n",
        "# model.add(tf.keras.layers.Dense(1))\n",
        "# model.summary()"
      ],
      "execution_count": 0,
      "outputs": []
    },
    {
      "cell_type": "code",
      "metadata": {
        "id": "SNKdCLg26x5-",
        "colab_type": "code",
        "outputId": "287dd73c-8318-4fd5-bdd7-ba2b9e771931",
        "colab": {
          "base_uri": "https://localhost:8080/",
          "height": 125
        }
      },
      "source": [
        "model = tf.keras.models.Sequential()\n",
        "model.add(tf.keras.layers.Bidirectional(tf.keras.layers.LSTM(100, input_shape=(n_steps, n_features), activation='relu', return_sequences=True)))\n",
        "model.add(tf.keras.layers.LSTM(100, activation='relu', return_sequences=True))\n",
        "model.add(tf.keras.layers.LSTM(100, activation='relu'))\n",
        "model.add(tf.keras.layers.Dense(1))\n",
        "# model.summary()"
      ],
      "execution_count": 9,
      "outputs": [
        {
          "output_type": "stream",
          "text": [
            "WARNING:tensorflow:Layer lstm will not use cuDNN kernel since it doesn't meet the cuDNN kernel criteria. It will use generic GPU kernel as fallback when running on GPU\n",
            "WARNING:tensorflow:Layer lstm will not use cuDNN kernel since it doesn't meet the cuDNN kernel criteria. It will use generic GPU kernel as fallback when running on GPU\n",
            "WARNING:tensorflow:Layer lstm will not use cuDNN kernel since it doesn't meet the cuDNN kernel criteria. It will use generic GPU kernel as fallback when running on GPU\n",
            "WARNING:tensorflow:Layer lstm_1 will not use cuDNN kernel since it doesn't meet the cuDNN kernel criteria. It will use generic GPU kernel as fallback when running on GPU\n",
            "WARNING:tensorflow:Layer lstm_2 will not use cuDNN kernel since it doesn't meet the cuDNN kernel criteria. It will use generic GPU kernel as fallback when running on GPU\n"
          ],
          "name": "stdout"
        }
      ]
    },
    {
      "cell_type": "code",
      "metadata": {
        "id": "3Q0O1_tQB_nU",
        "colab_type": "code",
        "colab": {}
      },
      "source": [
        "class myCallback(tf.keras.callbacks.Callback):\n",
        "  def on_epoch_end(self, epoch, logs={}):\n",
        "    if(logs.get('val_loss') < 1e-5):\n",
        "      print(\"\\nReached val_loss < 1e-5 cancelling training!\")\n",
        "      self.model.stop_training = True\n",
        "\n",
        "callbacks = myCallback()"
      ],
      "execution_count": 0,
      "outputs": []
    },
    {
      "cell_type": "code",
      "metadata": {
        "id": "coJ6OzbQX_B8",
        "colab_type": "code",
        "colab": {}
      },
      "source": [
        "lr_schedule = tf.keras.callbacks.LearningRateScheduler(lambda epoch: 1e-8 * 10**(epoch/20))"
      ],
      "execution_count": 0,
      "outputs": []
    },
    {
      "cell_type": "code",
      "metadata": {
        "id": "MPa-o5btYLpp",
        "colab_type": "code",
        "colab": {}
      },
      "source": [
        "sgd_optimizer = tf.keras.optimizers.SGD(lr=1e-6, momentum=0.9)\n",
        "rmsprop_optimizer = tf.keras.optimizers.RMSprop(learning_rate=1e-6, momentum=0.9)\n",
        "adam_optimizer = tf.keras.optimizers.Adam(lr=1e-6)"
      ],
      "execution_count": 0,
      "outputs": []
    },
    {
      "cell_type": "code",
      "metadata": {
        "id": "PmA6GoI9BFZK",
        "colab_type": "code",
        "colab": {}
      },
      "source": [
        "model.compile(loss='mse', optimizer=adam_optimizer, metrics=['mae'])\n",
        "# model.compile(loss='mse', optimizer='sgd', metrics=['mse'])\n",
        "# model.compile(loss = 'mse', optimizer='sgd' , metrics = ['mse'])"
      ],
      "execution_count": 0,
      "outputs": []
    },
    {
      "cell_type": "code",
      "metadata": {
        "id": "-k6R7_hA7M7v",
        "colab_type": "code",
        "outputId": "517091ca-f2cd-4454-b684-b05f3c9868c5",
        "colab": {
          "base_uri": "https://localhost:8080/",
          "height": 34
        }
      },
      "source": [
        "xs.shape"
      ],
      "execution_count": 14,
      "outputs": [
        {
          "output_type": "execute_result",
          "data": {
            "text/plain": [
              "(15, 3)"
            ]
          },
          "metadata": {
            "tags": []
          },
          "execution_count": 14
        }
      ]
    },
    {
      "cell_type": "code",
      "metadata": {
        "id": "4dJASLKv7Vo0",
        "colab_type": "code",
        "colab": {}
      },
      "source": [
        "xs = xs.reshape(-1,1,1)"
      ],
      "execution_count": 0,
      "outputs": []
    },
    {
      "cell_type": "code",
      "metadata": {
        "id": "HZh1CP897ai6",
        "colab_type": "code",
        "outputId": "2433eaf7-e07f-4700-f621-c34c45078437",
        "colab": {
          "base_uri": "https://localhost:8080/",
          "height": 34
        }
      },
      "source": [
        "xs.shape , xs.ndim"
      ],
      "execution_count": 16,
      "outputs": [
        {
          "output_type": "execute_result",
          "data": {
            "text/plain": [
              "((45, 1, 1), 3)"
            ]
          },
          "metadata": {
            "tags": []
          },
          "execution_count": 16
        }
      ]
    },
    {
      "cell_type": "code",
      "metadata": {
        "id": "y_EiAiS97QZ4",
        "colab_type": "code",
        "outputId": "71a5372f-96a6-48b7-9f7d-1ce495e73dd4",
        "colab": {
          "base_uri": "https://localhost:8080/",
          "height": 34
        }
      },
      "source": [
        "ys.shape , ys.ndim"
      ],
      "execution_count": 17,
      "outputs": [
        {
          "output_type": "execute_result",
          "data": {
            "text/plain": [
              "((15,), 1)"
            ]
          },
          "metadata": {
            "tags": []
          },
          "execution_count": 17
        }
      ]
    },
    {
      "cell_type": "code",
      "metadata": {
        "id": "HRbB3AQWBe8j",
        "colab_type": "code",
        "outputId": "2aed3f51-39d9-479c-bef7-02b86cfa686c",
        "colab": {
          "base_uri": "https://localhost:8080/",
          "height": 143
        }
      },
      "source": [
        "history = model.fit(xs, ys, validation_split=0.2, epochs=2000, callbacks=[callbacks, lr_schedule], verbose=0) "
      ],
      "execution_count": 18,
      "outputs": [
        {
          "output_type": "stream",
          "text": [
            "WARNING:tensorflow:Layer bidirectional is casting an input tensor from dtype float64 to the layer's dtype of float32, which is new behavior in TensorFlow 2.  The layer has dtype float32 because it's dtype defaults to floatx.\n",
            "\n",
            "If you intended to run this layer in float32, you can safely ignore this warning. If in doubt, this warning is likely only an issue if you are porting a TensorFlow 1.X model to TensorFlow 2.\n",
            "\n",
            "To change all layers to have dtype float64 by default, call `tf.keras.backend.set_floatx('float64')`. To change just this layer, pass dtype='float64' to the layer constructor. If you are the author of this layer, you can disable autocasting by passing autocast=False to the base Layer constructor.\n",
            "\n"
          ],
          "name": "stdout"
        }
      ]
    },
    {
      "cell_type": "code",
      "metadata": {
        "id": "OaZK821WtCqK",
        "colab_type": "code",
        "colab": {}
      },
      "source": [
        "# xs_next = np.max(xs)+1\n",
        "# xs_next = np.array([xs_next])\n",
        "# xs_next"
      ],
      "execution_count": 0,
      "outputs": []
    },
    {
      "cell_type": "code",
      "metadata": {
        "id": "_az-6rEl7tAA",
        "colab_type": "code",
        "colab": {}
      },
      "source": [
        "# xs_next = xs_next.reshape(-1,1,1)"
      ],
      "execution_count": 0,
      "outputs": []
    },
    {
      "cell_type": "code",
      "metadata": {
        "id": "Nv7RfxSMthFg",
        "colab_type": "code",
        "colab": {}
      },
      "source": [
        "# x_test = np.array([9.0])\n",
        "# x_test"
      ],
      "execution_count": 0,
      "outputs": []
    },
    {
      "cell_type": "code",
      "metadata": {
        "id": "TrEddge4Asi3",
        "colab_type": "code",
        "colab": {}
      },
      "source": [
        "# 63.22, 64.36, 65.52, 66.82\n",
        "\n",
        "xs_next = np.array([63.22, 64.36, 65.52])\n",
        "xs_next = xs_next.reshape((1, n_steps, n_features))"
      ],
      "execution_count": 0,
      "outputs": []
    },
    {
      "cell_type": "code",
      "metadata": {
        "id": "_T67KtN_CPYV",
        "colab_type": "code",
        "outputId": "016e1e14-6ca8-4942-a961-bd8dd5566f3a",
        "colab": {
          "base_uri": "https://localhost:8080/",
          "height": 87
        }
      },
      "source": [
        "x_test = xs_next\n",
        "print(f'x_test : {x_test}')\n",
        "pred = model.predict(x_test, verbose=0)[0][0]\n",
        "print(f'pred: {pred}')"
      ],
      "execution_count": 23,
      "outputs": [
        {
          "output_type": "stream",
          "text": [
            "x_test : [[[63.22]\n",
            "  [64.36]\n",
            "  [65.52]]]\n",
            "pred: nan\n"
          ],
          "name": "stdout"
        }
      ]
    },
    {
      "cell_type": "code",
      "metadata": {
        "id": "VDRYVCEZSxj6",
        "colab_type": "code",
        "outputId": "2de7a597-021a-42fe-fbd0-4c1c73f4599a",
        "colab": {
          "base_uri": "https://localhost:8080/",
          "height": 34
        }
      },
      "source": [
        "history.history.keys()"
      ],
      "execution_count": 24,
      "outputs": [
        {
          "output_type": "execute_result",
          "data": {
            "text/plain": [
              "dict_keys(['loss', 'mae', 'val_loss', 'val_mae', 'lr'])"
            ]
          },
          "metadata": {
            "tags": []
          },
          "execution_count": 24
        }
      ]
    },
    {
      "cell_type": "code",
      "metadata": {
        "id": "YyJKpmP2aIej",
        "colab_type": "code",
        "outputId": "8f611564-9a4d-47de-a9d8-8ba055a1b949",
        "colab": {
          "base_uri": "https://localhost:8080/",
          "height": 34
        }
      },
      "source": [
        "type(history.history.keys())"
      ],
      "execution_count": 25,
      "outputs": [
        {
          "output_type": "execute_result",
          "data": {
            "text/plain": [
              "dict_keys"
            ]
          },
          "metadata": {
            "tags": []
          },
          "execution_count": 25
        }
      ]
    },
    {
      "cell_type": "code",
      "metadata": {
        "id": "oVHrbCVwaMiB",
        "colab_type": "code",
        "outputId": "1d448d71-47d3-469f-91f2-8982d05c3d5d",
        "colab": {
          "base_uri": "https://localhost:8080/",
          "height": 34
        }
      },
      "source": [
        "keys = list(history.history.keys())\n",
        "keys"
      ],
      "execution_count": 26,
      "outputs": [
        {
          "output_type": "execute_result",
          "data": {
            "text/plain": [
              "['loss', 'mae', 'val_loss', 'val_mae', 'lr']"
            ]
          },
          "metadata": {
            "tags": []
          },
          "execution_count": 26
        }
      ]
    },
    {
      "cell_type": "code",
      "metadata": {
        "id": "1xOABfQcTCGz",
        "colab_type": "code",
        "colab": {}
      },
      "source": [
        "# tr_epochs = range(len(history.history['loss']))\n",
        "# tr_epochs"
      ],
      "execution_count": 0,
      "outputs": []
    },
    {
      "cell_type": "code",
      "metadata": {
        "id": "bUDBnb3XY4wH",
        "colab_type": "code",
        "colab": {}
      },
      "source": [
        "# val_epochs = range(len(history.history['mse']))\n",
        "# val_epochs"
      ],
      "execution_count": 0,
      "outputs": []
    },
    {
      "cell_type": "code",
      "metadata": {
        "id": "IXVAgFTmTThu",
        "colab_type": "code",
        "colab": {}
      },
      "source": [
        "train_loss = history.history[keys[0]]\n",
        "train_mse = history.history[keys[1]]\n",
        "val_loss = history.history[keys[2]]\n",
        "val_mse = history.history[keys[3]]"
      ],
      "execution_count": 0,
      "outputs": []
    },
    {
      "cell_type": "code",
      "metadata": {
        "id": "kuWn45j5C5E5",
        "colab_type": "code",
        "colab": {}
      },
      "source": [
        "import matplotlib.pyplot as plt\n",
        "%matplotlib inline"
      ],
      "execution_count": 0,
      "outputs": []
    },
    {
      "cell_type": "code",
      "metadata": {
        "id": "88NJXv_tSkPv",
        "colab_type": "code",
        "outputId": "29dfe4a7-e473-41e2-bdeb-7284ba4da5fb",
        "colab": {
          "base_uri": "https://localhost:8080/",
          "height": 390
        }
      },
      "source": [
        "plt.figure(figsize=(18,6))\n",
        "plt.subplot(121)\n",
        "plt.plot(range(len(train_loss)), train_loss, label=keys[0])\n",
        "plt.plot(range(len(val_loss)), val_loss, label=keys[2])\n",
        "plt.legend(loc='upper right')\n",
        "plt.title('Training and Validation Loss')\n",
        "\n",
        "plt.subplot(122)\n",
        "plt.plot(range(len(train_mse)), train_mse, label=keys[1])\n",
        "plt.plot(range(len(val_mse)), val_mse, label=keys[3])\n",
        "plt.legend(loc='upper right')\n",
        "plt.title('Training and Validation MSE')\n",
        "\n",
        "plt.show()"
      ],
      "execution_count": 31,
      "outputs": [
        {
          "output_type": "display_data",
          "data": {
            "image/png": "[encoded data removed]",
            "text/plain": [
              "<Figure size 1296x432 with 2 Axes>"
            ]
          },
          "metadata": {
            "tags": [],
            "needs_background": "light"
          }
        }
      ]
    },
    {
      "cell_type": "code",
      "metadata": {
        "id": "62-yfSzDTlSk",
        "colab_type": "code",
        "colab": {}
      },
      "source": [
        ""
      ],
      "execution_count": 0,
      "outputs": []
    }
  ]
}