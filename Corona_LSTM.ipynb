{
  "nbformat": 4,
  "nbformat_minor": 0,
  "metadata": {
    "colab": {
      "name": "Corona LSTM.ipynb",
      "provenance": [],
      "collapsed_sections": [],
      "authorship_tag": "ABX9TyNbPjxK41g038N7Ba49vviN",
      "include_colab_link": true
    },
    "kernelspec": {
      "name": "python3",
      "display_name": "Python 3"
    },
    "accelerator": "GPU"
  },
  "cells": [
    {
      "cell_type": "markdown",
      "metadata": {
        "id": "view-in-github",
        "colab_type": "text"
      },
      "source": [
        "<a href=\"https://colab.research.google.com/github/biranchi2018/CoronaRegression/blob/master/Corona_LSTM.ipynb\" target=\"_parent\"><img src=\"https://colab.research.google.com/assets/colab-badge.svg\" alt=\"Open In Colab\"/></a>"
      ]
    },
    {
      "cell_type": "code",
      "metadata": {
        "id": "2XLcbOSxAhWT",
        "colab_type": "code",
        "colab": {}
      },
      "source": [
        "# https://machinelearningmastery.com/how-to-develop-lstm-models-for-time-series-forecasting/\n",
        "# https://www.youtube.com/watch?v=lncoLfue_Y4\n",
        "# https://www.youtube.com/watch?v=arydWPLDnEc\n",
        "# https://www.youtube.com/watch?v=hOLSGMEEwlI\n",
        "\n",
        "\n",
        "import tensorflow as tf\n",
        "import numpy as np\n",
        "from sklearn.preprocessing import MinMaxScaler"
      ],
      "execution_count": 0,
      "outputs": []
    },
    {
      "cell_type": "code",
      "metadata": {
        "id": "WC5biRf9AnkJ",
        "colab_type": "code",
        "outputId": "d2992c7d-ca58-4c9a-bcae-ec51324fb0a5",
        "colab": {
          "base_uri": "https://localhost:8080/",
          "height": 87
        }
      },
      "source": [
        "\n",
        "data = np.array([38.03, 42.10, 44.04, 45.01, 47.25, 49.69, 52.19, 53.38, 56.50, 58.47, 59.32, 60.74, \n",
        "                 61.09, 62.40, 63.22, 64.36, 65.52, 66.82, 67.99, 68.91, 68.75, 69.49, 69.35, 70.05,\n",
        "                 70.07, 70.58, 71.55, 73.15])\n",
        "\n",
        "# data = np.array([38.03, 42.10, 44.04, 45.01, 47.25, 49.69, 52.19, 53.38, 56.50, 58.47, 59.32, 60.74, \n",
        "#                  61.09, 62.40, 63.22, 64.36, 65.52, 66.82, 67.99, 68.91, 68.75, 69.49, 69.35, 70.05,\n",
        "#                  70.07, 70.58, 71.55, 73.15])\n",
        "\n",
        "data"
      ],
      "execution_count": 2,
      "outputs": [
        {
          "output_type": "execute_result",
          "data": {
            "text/plain": [
              "array([38.03, 42.1 , 44.04, 45.01, 47.25, 49.69, 52.19, 53.38, 56.5 ,\n",
              "       58.47, 59.32, 60.74, 61.09, 62.4 , 63.22, 64.36, 65.52, 66.82,\n",
              "       67.99, 68.91, 68.75, 69.49, 69.35, 70.05, 70.07, 70.58, 71.55,\n",
              "       73.15])"
            ]
          },
          "metadata": {
            "tags": []
          },
          "execution_count": 2
        }
      ]
    },
    {
      "cell_type": "code",
      "metadata": {
        "id": "ygOabGWUrkx1",
        "colab_type": "code",
        "outputId": "ee44bf8b-073e-480d-e0d8-a65759d06672",
        "colab": {
          "base_uri": "https://localhost:8080/",
          "height": 34
        }
      },
      "source": [
        "len(data)"
      ],
      "execution_count": 3,
      "outputs": [
        {
          "output_type": "execute_result",
          "data": {
            "text/plain": [
              "28"
            ]
          },
          "metadata": {
            "tags": []
          },
          "execution_count": 3
        }
      ]
    },
    {
      "cell_type": "code",
      "metadata": {
        "id": "uk6VAEapDvcn",
        "colab_type": "code",
        "colab": {
          "base_uri": "https://localhost:8080/",
          "height": 34
        },
        "outputId": "9cab8419-704a-432e-f8d6-518cd592f3ac"
      },
      "source": [
        "data.shape"
      ],
      "execution_count": 86,
      "outputs": [
        {
          "output_type": "execute_result",
          "data": {
            "text/plain": [
              "(28,)"
            ]
          },
          "metadata": {
            "tags": []
          },
          "execution_count": 86
        }
      ]
    },
    {
      "cell_type": "code",
      "metadata": {
        "id": "08mVMz8fDxAq",
        "colab_type": "code",
        "colab": {}
      },
      "source": [
        "data = data.reshape(-1,1)"
      ],
      "execution_count": 0,
      "outputs": []
    },
    {
      "cell_type": "code",
      "metadata": {
        "id": "evPsQkScD1vh",
        "colab_type": "code",
        "colab": {
          "base_uri": "https://localhost:8080/",
          "height": 34
        },
        "outputId": "5f93865c-fb92-4b0f-f340-93393a58a367"
      },
      "source": [
        "data.shape"
      ],
      "execution_count": 90,
      "outputs": [
        {
          "output_type": "execute_result",
          "data": {
            "text/plain": [
              "(28, 1)"
            ]
          },
          "metadata": {
            "tags": []
          },
          "execution_count": 90
        }
      ]
    },
    {
      "cell_type": "markdown",
      "metadata": {
        "id": "mOBr_jhPDQ9I",
        "colab_type": "text"
      },
      "source": [
        "## Feature Scaling"
      ]
    },
    {
      "cell_type": "code",
      "metadata": {
        "id": "HWNNC-shDiK5",
        "colab_type": "code",
        "colab": {
          "base_uri": "https://localhost:8080/",
          "height": 194
        },
        "outputId": "14e6fdc5-f963-4ed9-bbf8-bee3a4ea4474"
      },
      "source": [
        "data[:10]"
      ],
      "execution_count": 91,
      "outputs": [
        {
          "output_type": "execute_result",
          "data": {
            "text/plain": [
              "array([[38.03],\n",
              "       [42.1 ],\n",
              "       [44.04],\n",
              "       [45.01],\n",
              "       [47.25],\n",
              "       [49.69],\n",
              "       [52.19],\n",
              "       [53.38],\n",
              "       [56.5 ],\n",
              "       [58.47]])"
            ]
          },
          "metadata": {
            "tags": []
          },
          "execution_count": 91
        }
      ]
    },
    {
      "cell_type": "code",
      "metadata": {
        "id": "UPXH7Udv_J3b",
        "colab_type": "code",
        "colab": {}
      },
      "source": [
        "sc = MinMaxScaler(feature_range = (0,1))\n",
        "data = sc.fit_transform(data)"
      ],
      "execution_count": 0,
      "outputs": []
    },
    {
      "cell_type": "code",
      "metadata": {
        "id": "sLQTiZP7DkN6",
        "colab_type": "code",
        "colab": {
          "base_uri": "https://localhost:8080/",
          "height": 194
        },
        "outputId": "d1f62e82-af70-4020-a772-7ef2e4bd8bd1"
      },
      "source": [
        "data[:10]"
      ],
      "execution_count": 93,
      "outputs": [
        {
          "output_type": "execute_result",
          "data": {
            "text/plain": [
              "array([[0.        ],\n",
              "       [0.11588838],\n",
              "       [0.17112756],\n",
              "       [0.19874715],\n",
              "       [0.26252847],\n",
              "       [0.33200456],\n",
              "       [0.40318907],\n",
              "       [0.43707289],\n",
              "       [0.52591116],\n",
              "       [0.58200456]])"
            ]
          },
          "metadata": {
            "tags": []
          },
          "execution_count": 93
        }
      ]
    },
    {
      "cell_type": "markdown",
      "metadata": {
        "id": "kDS7WAEf_N_b",
        "colab_type": "text"
      },
      "source": [
        "## Prepare data for LSTM "
      ]
    },
    {
      "cell_type": "code",
      "metadata": {
        "id": "IuR-LTig_J6x",
        "colab_type": "code",
        "colab": {}
      },
      "source": [
        "# split a univariate sequence into samples\n",
        "def split_sequence(sequence, n_steps):\n",
        "\tX, y = list(), list()\n",
        "\tfor i in range(len(sequence)):\n",
        "\t\t# find the end of this pattern\n",
        "\t\tend_ix = i + n_steps\n",
        "\t\t# check if we are beyond the sequence\n",
        "\t\tif end_ix > len(sequence)-1:\n",
        "\t\t\tbreak\n",
        "\t\t# gather input and output parts of the pattern\n",
        "\t\tseq_x, seq_y = sequence[i:end_ix], sequence[end_ix]\n",
        "\t\tX.append(seq_x)\n",
        "\t\ty.append(seq_y)\n",
        "\treturn np.array(X), np.array(y)"
      ],
      "execution_count": 0,
      "outputs": []
    },
    {
      "cell_type": "code",
      "metadata": {
        "id": "SMuUJKsz_QuE",
        "colab_type": "code",
        "colab": {}
      },
      "source": [
        "n_steps = 3\n",
        "n_features = 1\n",
        "\n",
        "xs, ys = split_sequence(data, n_steps)"
      ],
      "execution_count": 0,
      "outputs": []
    },
    {
      "cell_type": "code",
      "metadata": {
        "id": "_ETQg90k_Qw7",
        "colab_type": "code",
        "outputId": "d368d30b-9e98-44df-b9d2-9355759b081b",
        "colab": {
          "base_uri": "https://localhost:8080/",
          "height": 514
        }
      },
      "source": [
        "xs[:10], ys[:10]"
      ],
      "execution_count": 149,
      "outputs": [
        {
          "output_type": "execute_result",
          "data": {
            "text/plain": [
              "(array([[[0.        ]],\n",
              " \n",
              "        [[0.11588838]],\n",
              " \n",
              "        [[0.17112756]],\n",
              " \n",
              "        [[0.11588838]],\n",
              " \n",
              "        [[0.17112756]],\n",
              " \n",
              "        [[0.19874715]],\n",
              " \n",
              "        [[0.17112756]],\n",
              " \n",
              "        [[0.19874715]],\n",
              " \n",
              "        [[0.26252847]],\n",
              " \n",
              "        [[0.19874715]]]), array([[0.19874715],\n",
              "        [0.26252847],\n",
              "        [0.33200456],\n",
              "        [0.40318907],\n",
              "        [0.43707289],\n",
              "        [0.52591116],\n",
              "        [0.58200456],\n",
              "        [0.60620729],\n",
              "        [0.64664009],\n",
              "        [0.65660592]]))"
            ]
          },
          "metadata": {
            "tags": []
          },
          "execution_count": 149
        }
      ]
    },
    {
      "cell_type": "code",
      "metadata": {
        "id": "Q3S7wDGh_Q0T",
        "colab_type": "code",
        "colab": {}
      },
      "source": [
        ""
      ],
      "execution_count": 0,
      "outputs": []
    },
    {
      "cell_type": "code",
      "metadata": {
        "id": "oOXNNUZI_Q4B",
        "colab_type": "code",
        "colab": {}
      },
      "source": [
        ""
      ],
      "execution_count": 0,
      "outputs": []
    },
    {
      "cell_type": "code",
      "metadata": {
        "id": "mFFxCjmnA-JW",
        "colab_type": "code",
        "colab": {}
      },
      "source": [
        "# xs = []\n",
        "# xs_range = range(0,len(ys))\n",
        "# print(xs_range)\n",
        "# for i in xs_range:\n",
        "#   xs.append(i+1)\n",
        "\n",
        "# xs = np.array(xs, dtype=np.float32)\n",
        "# xs"
      ],
      "execution_count": 0,
      "outputs": []
    },
    {
      "cell_type": "code",
      "metadata": {
        "id": "N5Pyy-FOAqbT",
        "colab_type": "code",
        "colab": {}
      },
      "source": [
        "# model = tf.keras.models.Sequential()\n",
        "# model.add(tf.keras.layers.Dense(100, input_dim=1, activation='relu'))\n",
        "# model.add(tf.keras.layers.Dropout(0.2))\n",
        "# model.add(tf.keras.layers.Dense(100, activation='relu'))\n",
        "# model.add(tf.keras.layers.Dense(10, activation='relu'))\n",
        "# model.add(tf.keras.layers.Dense(1))\n",
        "# model.summary()"
      ],
      "execution_count": 0,
      "outputs": []
    },
    {
      "cell_type": "code",
      "metadata": {
        "id": "SNKdCLg26x5-",
        "colab_type": "code",
        "outputId": "80e9b704-eaa8-4190-91fa-ace2c2e9f487",
        "colab": {
          "base_uri": "https://localhost:8080/",
          "height": 125
        }
      },
      "source": [
        "model = tf.keras.models.Sequential()\n",
        "model.add(tf.keras.layers.Bidirectional(tf.keras.layers.LSTM(50, input_shape=(n_steps, n_features), activation='relu', return_sequences=True)))\n",
        "model.add(tf.keras.layers.Dropout(0.2))\n",
        "model.add(tf.keras.layers.LSTM(50, activation='relu', return_sequences=True))\n",
        "model.add(tf.keras.layers.Dropout(0.2))\n",
        "model.add(tf.keras.layers.LSTM(50, activation='relu'))\n",
        "model.add(tf.keras.layers.Dropout(0.2))\n",
        "model.add(tf.keras.layers.Dense(1))\n",
        "# model.summary()"
      ],
      "execution_count": 99,
      "outputs": [
        {
          "output_type": "stream",
          "text": [
            "WARNING:tensorflow:Layer lstm_6 will not use cuDNN kernel since it doesn't meet the cuDNN kernel criteria. It will use generic GPU kernel as fallback when running on GPU\n",
            "WARNING:tensorflow:Layer lstm_6 will not use cuDNN kernel since it doesn't meet the cuDNN kernel criteria. It will use generic GPU kernel as fallback when running on GPU\n",
            "WARNING:tensorflow:Layer lstm_6 will not use cuDNN kernel since it doesn't meet the cuDNN kernel criteria. It will use generic GPU kernel as fallback when running on GPU\n",
            "WARNING:tensorflow:Layer lstm_7 will not use cuDNN kernel since it doesn't meet the cuDNN kernel criteria. It will use generic GPU kernel as fallback when running on GPU\n",
            "WARNING:tensorflow:Layer lstm_8 will not use cuDNN kernel since it doesn't meet the cuDNN kernel criteria. It will use generic GPU kernel as fallback when running on GPU\n"
          ],
          "name": "stdout"
        }
      ]
    },
    {
      "cell_type": "code",
      "metadata": {
        "id": "3Q0O1_tQB_nU",
        "colab_type": "code",
        "colab": {}
      },
      "source": [
        "class myCallback(tf.keras.callbacks.Callback):\n",
        "  def on_epoch_end(self, epoch, logs={}):\n",
        "    if(logs.get('val_loss') < 1e-8):\n",
        "      print(\"\\nReached val_loss < 1e-8 cancelling training!\")\n",
        "      self.model.stop_training = True\n",
        "\n",
        "callbacks = myCallback()"
      ],
      "execution_count": 0,
      "outputs": []
    },
    {
      "cell_type": "code",
      "metadata": {
        "id": "coJ6OzbQX_B8",
        "colab_type": "code",
        "colab": {}
      },
      "source": [
        "lr_schedule = tf.keras.callbacks.LearningRateScheduler(lambda epoch: 1e-8 * 10**(epoch/20))"
      ],
      "execution_count": 0,
      "outputs": []
    },
    {
      "cell_type": "code",
      "metadata": {
        "id": "MPa-o5btYLpp",
        "colab_type": "code",
        "colab": {}
      },
      "source": [
        "sgd_optimizer = tf.keras.optimizers.SGD(lr=1e-6, momentum=0.9)\n",
        "rmsprop_optimizer = tf.keras.optimizers.RMSprop(learning_rate=1e-6, momentum=0.9)\n",
        "adam_optimizer = tf.keras.optimizers.Adam(lr=1e-8)"
      ],
      "execution_count": 0,
      "outputs": []
    },
    {
      "cell_type": "code",
      "metadata": {
        "id": "PmA6GoI9BFZK",
        "colab_type": "code",
        "colab": {}
      },
      "source": [
        "model.compile(loss='mse', optimizer=adam_optimizer, metrics=['mae'])\n",
        "# model.compile(loss='mse', optimizer='sgd', metrics=['mse'])\n",
        "# model.compile(loss = 'mse', optimizer='sgd' , metrics = ['mse'])"
      ],
      "execution_count": 0,
      "outputs": []
    },
    {
      "cell_type": "code",
      "metadata": {
        "id": "-k6R7_hA7M7v",
        "colab_type": "code",
        "outputId": "914ce888-eccf-4c89-ec18-72021a6501fc",
        "colab": {
          "base_uri": "https://localhost:8080/",
          "height": 34
        }
      },
      "source": [
        "xs.shape"
      ],
      "execution_count": 126,
      "outputs": [
        {
          "output_type": "execute_result",
          "data": {
            "text/plain": [
              "(75, 1, 1)"
            ]
          },
          "metadata": {
            "tags": []
          },
          "execution_count": 126
        }
      ]
    },
    {
      "cell_type": "code",
      "metadata": {
        "id": "4dJASLKv7Vo0",
        "colab_type": "code",
        "colab": {}
      },
      "source": [
        "xs = xs.reshape(-1,1,1)"
      ],
      "execution_count": 0,
      "outputs": []
    },
    {
      "cell_type": "code",
      "metadata": {
        "id": "HZh1CP897ai6",
        "colab_type": "code",
        "outputId": "cbf5d92c-e5bd-440f-eccf-74f866af0c38",
        "colab": {
          "base_uri": "https://localhost:8080/",
          "height": 34
        }
      },
      "source": [
        "xs.shape , xs.ndim"
      ],
      "execution_count": 128,
      "outputs": [
        {
          "output_type": "execute_result",
          "data": {
            "text/plain": [
              "((75, 1, 1), 3)"
            ]
          },
          "metadata": {
            "tags": []
          },
          "execution_count": 128
        }
      ]
    },
    {
      "cell_type": "code",
      "metadata": {
        "id": "y_EiAiS97QZ4",
        "colab_type": "code",
        "outputId": "b67e0dfc-e462-4110-f8f4-b3ca95242656",
        "colab": {
          "base_uri": "https://localhost:8080/",
          "height": 34
        }
      },
      "source": [
        "ys.shape , ys.ndim"
      ],
      "execution_count": 129,
      "outputs": [
        {
          "output_type": "execute_result",
          "data": {
            "text/plain": [
              "((25, 1), 2)"
            ]
          },
          "metadata": {
            "tags": []
          },
          "execution_count": 129
        }
      ]
    },
    {
      "cell_type": "code",
      "metadata": {
        "id": "HRbB3AQWBe8j",
        "colab_type": "code",
        "colab": {}
      },
      "source": [
        "history = model.fit(xs, ys, validation_split=0.2, epochs=2000, callbacks=[callbacks, lr_schedule], verbose=0) "
      ],
      "execution_count": 0,
      "outputs": []
    },
    {
      "cell_type": "code",
      "metadata": {
        "id": "OaZK821WtCqK",
        "colab_type": "code",
        "colab": {}
      },
      "source": [
        "# xs_next = np.max(xs)+1\n",
        "# xs_next = np.array([xs_next])\n",
        "# xs_next"
      ],
      "execution_count": 0,
      "outputs": []
    },
    {
      "cell_type": "code",
      "metadata": {
        "id": "_az-6rEl7tAA",
        "colab_type": "code",
        "colab": {}
      },
      "source": [
        "# xs_next = xs_next.reshape(-1,1,1)"
      ],
      "execution_count": 0,
      "outputs": []
    },
    {
      "cell_type": "code",
      "metadata": {
        "id": "Nv7RfxSMthFg",
        "colab_type": "code",
        "colab": {}
      },
      "source": [
        "# x_test = np.array([9.0])\n",
        "# x_test"
      ],
      "execution_count": 0,
      "outputs": []
    },
    {
      "cell_type": "code",
      "metadata": {
        "id": "TrEddge4Asi3",
        "colab_type": "code",
        "colab": {
          "base_uri": "https://localhost:8080/",
          "height": 70
        },
        "outputId": "742bafb0-b1c9-4cf9-8ccf-95a97392ad1e"
      },
      "source": [
        "# 70.07, 70.58, 71.55, 73.15\n",
        "\n",
        "xs_next = np.array([70.07, 70.58, 71.55])\n",
        "xs_next = xs_next.reshape(-1,1)\n",
        "xs_next = sc.transform(xs_next)\n",
        "print(xs_next)\n",
        "xs_next = xs_next.reshape((1, n_steps, n_features))"
      ],
      "execution_count": 139,
      "outputs": [
        {
          "output_type": "stream",
          "text": [
            "[[0.91230068]\n",
            " [0.92682232]\n",
            " [0.95444191]]\n"
          ],
          "name": "stdout"
        }
      ]
    },
    {
      "cell_type": "code",
      "metadata": {
        "id": "_T67KtN_CPYV",
        "colab_type": "code",
        "outputId": "01476731-c8a3-4953-c94f-12f43c879d22",
        "colab": {
          "base_uri": "https://localhost:8080/",
          "height": 87
        }
      },
      "source": [
        "x_test = xs_next\n",
        "print(f'x_test : {x_test}')\n",
        "pred = model.predict(x_test, verbose=0)[0][0]\n",
        "print(f'pred: {pred}')"
      ],
      "execution_count": 140,
      "outputs": [
        {
          "output_type": "stream",
          "text": [
            "x_test : [[[0.91230068]\n",
            "  [0.92682232]\n",
            "  [0.95444191]]]\n",
            "pred: nan\n"
          ],
          "name": "stdout"
        }
      ]
    },
    {
      "cell_type": "code",
      "metadata": {
        "id": "VDRYVCEZSxj6",
        "colab_type": "code",
        "outputId": "15ec7113-8f16-4ecd-fa02-637414f2a3e4",
        "colab": {
          "base_uri": "https://localhost:8080/",
          "height": 34
        }
      },
      "source": [
        "history.history.keys()"
      ],
      "execution_count": 141,
      "outputs": [
        {
          "output_type": "execute_result",
          "data": {
            "text/plain": [
              "dict_keys(['loss', 'mae', 'val_loss', 'val_mae', 'lr'])"
            ]
          },
          "metadata": {
            "tags": []
          },
          "execution_count": 141
        }
      ]
    },
    {
      "cell_type": "code",
      "metadata": {
        "id": "YyJKpmP2aIej",
        "colab_type": "code",
        "outputId": "cb901d1c-b0ec-4167-f474-6f75db81e0ac",
        "colab": {
          "base_uri": "https://localhost:8080/",
          "height": 34
        }
      },
      "source": [
        "type(history.history.keys())"
      ],
      "execution_count": 142,
      "outputs": [
        {
          "output_type": "execute_result",
          "data": {
            "text/plain": [
              "dict_keys"
            ]
          },
          "metadata": {
            "tags": []
          },
          "execution_count": 142
        }
      ]
    },
    {
      "cell_type": "code",
      "metadata": {
        "id": "oVHrbCVwaMiB",
        "colab_type": "code",
        "outputId": "afd6fa12-b330-4361-865e-569e1401ed5b",
        "colab": {
          "base_uri": "https://localhost:8080/",
          "height": 34
        }
      },
      "source": [
        "keys = list(history.history.keys())\n",
        "keys"
      ],
      "execution_count": 143,
      "outputs": [
        {
          "output_type": "execute_result",
          "data": {
            "text/plain": [
              "['loss', 'mae', 'val_loss', 'val_mae', 'lr']"
            ]
          },
          "metadata": {
            "tags": []
          },
          "execution_count": 143
        }
      ]
    },
    {
      "cell_type": "code",
      "metadata": {
        "id": "1xOABfQcTCGz",
        "colab_type": "code",
        "colab": {}
      },
      "source": [
        "# tr_epochs = range(len(history.history['loss']))\n",
        "# tr_epochs"
      ],
      "execution_count": 0,
      "outputs": []
    },
    {
      "cell_type": "code",
      "metadata": {
        "id": "bUDBnb3XY4wH",
        "colab_type": "code",
        "colab": {}
      },
      "source": [
        "# val_epochs = range(len(history.history['mse']))\n",
        "# val_epochs"
      ],
      "execution_count": 0,
      "outputs": []
    },
    {
      "cell_type": "code",
      "metadata": {
        "id": "IXVAgFTmTThu",
        "colab_type": "code",
        "colab": {}
      },
      "source": [
        "train_loss = history.history[keys[0]]\n",
        "train_mse = history.history[keys[1]]\n",
        "val_loss = history.history[keys[2]]\n",
        "val_mse = history.history[keys[3]]"
      ],
      "execution_count": 0,
      "outputs": []
    },
    {
      "cell_type": "code",
      "metadata": {
        "id": "kuWn45j5C5E5",
        "colab_type": "code",
        "colab": {}
      },
      "source": [
        "import matplotlib.pyplot as plt\n",
        "%matplotlib inline"
      ],
      "execution_count": 0,
      "outputs": []
    },
    {
      "cell_type": "code",
      "metadata": {
        "id": "88NJXv_tSkPv",
        "colab_type": "code",
        "outputId": "73de23d7-7bda-4a60-a8ef-da43aafbbabf",
        "colab": {
          "base_uri": "https://localhost:8080/",
          "height": 390
        }
      },
      "source": [
        "plt.figure(figsize=(18,6))\n",
        "plt.subplot(121)\n",
        "plt.plot(range(len(train_loss)), train_loss, label=keys[0])\n",
        "plt.plot(range(len(val_loss)), val_loss, label=keys[2])\n",
        "plt.legend(loc='upper right')\n",
        "plt.title('Training and Validation Loss')\n",
        "\n",
        "plt.subplot(122)\n",
        "plt.plot(range(len(train_mse)), train_mse, label=keys[1])\n",
        "plt.plot(range(len(val_mse)), val_mse, label=keys[3])\n",
        "plt.legend(loc='upper right')\n",
        "plt.title('Training and Validation MSE')\n",
        "\n",
        "plt.show()"
      ],
      "execution_count": 148,
      "outputs": [
        {
          "output_type": "display_data",
          "data": {
            "image/png": "[encoded data removed]",
            "text/plain": [
              "<Figure size 1296x432 with 2 Axes>"
            ]
          },
          "metadata": {
            "tags": [],
            "needs_background": "light"
          }
        }
      ]
    },
    {
      "cell_type": "code",
      "metadata": {
        "id": "62-yfSzDTlSk",
        "colab_type": "code",
        "colab": {}
      },
      "source": [
        ""
      ],
      "execution_count": 0,
      "outputs": []
    }
  ]
}